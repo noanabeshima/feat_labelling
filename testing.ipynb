{
 "cells": [
  {
   "cell_type": "code",
   "execution_count": null,
   "metadata": {},
   "outputs": [
    {
     "name": "stderr",
     "output_type": "stream",
     "text": [
      "2024-07-06 15:09:27,168\tINFO worker.py:1744 -- Started a local Ray instance. View the dashboard at \u001b[1m\u001b[32mhttp://127.0.0.1:8265 \u001b[39m\u001b[22m\n",
      "/Users/noanabeshima/fast_feat_labelling/utils.py:55: UserWarning: Sparse CSR tensor support is in beta state. If you miss a functionality in the sparse tensor support, please submit a feature request to https://github.com/pytorch/pytorch/issues. (Triggered internally at /Users/runner/work/pytorch/pytorch/pytorch/aten/src/ATen/SparseCsrTensorImpl.cpp:55.)\n",
      "  feat_acts = torch.sparse_csr_tensor(**csr_kwargs, size=(csr_kwargs['crow_indices'].shape[0]-1, 128))\n"
     ]
    },
    {
     "name": "stderr",
     "output_type": "stream",
     "text": [
      "\u001b[33m(raylet)\u001b[0m [2024-07-06 15:14:02,383 E 8109 7775394] (raylet) file_system_monitor.cc:111: /tmp/ray/session_2024-07-06_15-09-25_480314_8094 is over 95% full, available space: 49499709440; capacity: 994662584320. Object creation will fail if spilling is required.\n"
     ]
    }
   ],
   "source": [
    "import tiny_model\n",
    "from tiny_model import TinyModel\n",
    "from datasets import load_dataset\n",
    "import tokre\n",
    "from utils import *\n",
    "\n",
    "tokre.setup(tokenizer=tiny_model.tokenizer)\n",
    "import json\n",
    "\n",
    "MLP_DIR = 'mlp_map_test'\n",
    "MLP_NAME = 'M0_S-2_R1_P0'\n",
    "TOT_FEATS = 9662\n",
    "CORES_PER_ACTOR = 6\n",
    "\n",
    "import numpy as np\n",
    "from utils import all_tok_ids\n",
    "import os\n",
    "from tqdm import tqdm\n",
    "import ray\n",
    "import time\n",
    "\n",
    "\n",
    "MLP_DIR = 'mlp_map_test'\n",
    "MLP_NAME = 'M0_S-2_R1_P0'\n",
    "feat_idx = 1000\n",
    "\n",
    "acts = load_sparse_feat_acts(f'mlp_map_test/{MLP_NAME}/{feat_idx}.pt')"
   ]
  },
  {
   "cell_type": "code",
   "execution_count": null,
   "metadata": {},
   "outputs": [],
   "source": []
  },
  {
   "cell_type": "code",
   "execution_count": 10,
   "metadata": {},
   "outputs": [
    {
     "data": {
      "text/plain": [
       "tensor(0.0008)"
      ]
     },
     "execution_count": 10,
     "metadata": {},
     "output_type": "execute_result"
    },
    {
     "ename": "",
     "evalue": "",
     "output_type": "error",
     "traceback": [
      "\u001b[1;31mThe Kernel crashed while executing code in the current cell or a previous cell. \n",
      "\u001b[1;31mPlease review the code in the cell(s) to identify a possible cause of the failure. \n",
      "\u001b[1;31mClick <a href='https://aka.ms/vscodeJupyterKernelCrash'>here</a> for more info. \n",
      "\u001b[1;31mView Jupyter <a href='command:jupyter.viewOutput'>log</a> for further details."
     ]
    }
   ],
   "source": [
    "import numpy as np\n"
   ]
  },
  {
   "cell_type": "code",
   "execution_count": 4,
   "metadata": {},
   "outputs": [
    {
     "data": {
      "text/plain": [
       "torch.Size([5885, 128])"
      ]
     },
     "execution_count": 4,
     "metadata": {},
     "output_type": "execute_result"
    }
   ],
   "source": [
    "acts.shape"
   ]
  },
  {
   "cell_type": "code",
   "execution_count": 70,
   "metadata": {},
   "outputs": [
    {
     "ename": "",
     "evalue": "",
     "output_type": "error",
     "traceback": [
      "\u001b[1;31mThe Kernel crashed while executing code in the current cell or a previous cell. \n",
      "\u001b[1;31mPlease review the code in the cell(s) to identify a possible cause of the failure. \n",
      "\u001b[1;31mClick <a href='https://aka.ms/vscodeJupyterKernelCrash'>here</a> for more info. \n",
      "\u001b[1;31mView Jupyter <a href='command:jupyter.viewOutput'>log</a> for further details."
     ]
    }
   ],
   "source": [
    "def slice_csr(csr, start=0, end=None):\n",
    "    '''\n",
    "    slice csr along the first dimension\n",
    "    '''\n",
    "    if start is None:\n",
    "        start = 0\n",
    "    \n",
    "    new_crow_indices = csr.crow_indices()[start:None if end is None else end] - csr.crow_indices()[start]\n",
    "    val_start = csr.crow_indices()[start].item()\n",
    "    val_end = None if end is None else csr.crow_indices()[end].item()\n",
    "\n",
    "    new_col_indices=csr.col_indices()[val_start:val_end]\n",
    "    new_values = csr.values()[val_start:val_end]\n",
    "\n",
    "    if end is None:\n",
    "        new_size = (csr.size()[0]-start, csr.size()[1])\n",
    "    else:\n",
    "        new_size = (end - start, csr.size()[1])\n",
    "    \n",
    "    return torch.sparse_csr_tensor(\n",
    "        crow_indices=new_crow_indices,\n",
    "        col_indices=new_col_indices,\n",
    "        values=new_values,\n",
    "        size=new_size\n",
    "    )\n",
    "\n",
    "\n",
    "    \n",
    "sliced = slice_csr(acts, 10, None)\n"
   ]
  },
  {
   "cell_type": "code",
   "execution_count": 7,
   "metadata": {},
   "outputs": [
    {
     "data": {
      "text/plain": [
       "tensor(0.)"
      ]
     },
     "execution_count": 7,
     "metadata": {},
     "output_type": "execute_result"
    }
   ],
   "source": [
    "acts[0][4]"
   ]
  },
  {
   "cell_type": "code",
   "execution_count": 13,
   "metadata": {},
   "outputs": [
    {
     "data": {
      "text/plain": [
       "tensor(0.)"
      ]
     },
     "execution_count": 13,
     "metadata": {},
     "output_type": "execute_result"
    }
   ],
   "source": [
    "acts[9,58]"
   ]
  },
  {
   "cell_type": "code",
   "execution_count": 14,
   "metadata": {},
   "outputs": [
    {
     "data": {
      "text/plain": [
       "torch.Size([10, 128])"
      ]
     },
     "execution_count": 14,
     "metadata": {},
     "output_type": "execute_result"
    }
   ],
   "source": [
    "errs.shape"
   ]
  },
  {
   "cell_type": "code",
   "execution_count": 38,
   "metadata": {},
   "outputs": [
    {
     "data": {
      "text/plain": [
       "torch.Size([5885, 128])"
      ]
     },
     "execution_count": 38,
     "metadata": {},
     "output_type": "execute_result"
    }
   ],
   "source": [
    "acts.to_dense().shape"
   ]
  },
  {
   "cell_type": "code",
   "execution_count": 69,
   "metadata": {},
   "outputs": [
    {
     "name": "stdout",
     "output_type": "stream",
     "text": [
      "15 None\n"
     ]
    },
    {
     "data": {
      "text/plain": [
       "tensor([], size=(0, 2), dtype=torch.int64)"
      ]
     },
     "execution_count": 69,
     "metadata": {},
     "output_type": "execute_result"
    }
   ],
   "source": [
    "errs = (slice_csr(acts, 5, None).to_dense() - acts.to_dense()[5:])\n",
    "\n",
    "errs.nonzero()"
   ]
  }
 ],
 "metadata": {
  "kernelspec": {
   "display_name": "tokre_11",
   "language": "python",
   "name": "python3"
  },
  "language_info": {
   "codemirror_mode": {
    "name": "ipython",
    "version": 3
   },
   "file_extension": ".py",
   "mimetype": "text/x-python",
   "name": "python",
   "nbconvert_exporter": "python",
   "pygments_lexer": "ipython3",
   "version": "3.11.9"
  }
 },
 "nbformat": 4,
 "nbformat_minor": 2
}
